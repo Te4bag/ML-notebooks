{
 "cells": [
  {
   "cell_type": "code",
   "execution_count": 1,
   "id": "ca4701ab-a5ad-4b15-8f56-904cabc94922",
   "metadata": {},
   "outputs": [],
   "source": [
    "import numpy as np"
   ]
  },
  {
   "cell_type": "code",
   "execution_count": 2,
   "id": "efaf6fe2-fb70-4346-8b69-21743125290d",
   "metadata": {},
   "outputs": [
    {
     "name": "stdout",
     "output_type": "stream",
     "text": [
      "[1 2 3 4]\n"
     ]
    }
   ],
   "source": [
    "a = np.array([1,2,3,4])\n",
    "print(a)"
   ]
  },
  {
   "cell_type": "code",
   "execution_count": 3,
   "id": "20c1dfa9-467c-467a-8f3b-9ab3b9dde3d1",
   "metadata": {},
   "outputs": [
    {
     "name": "stdout",
     "output_type": "stream",
     "text": [
      "(4,)\n",
      "int32\n",
      "1\n",
      "4\n",
      "4\n"
     ]
    }
   ],
   "source": [
    "print(a.shape) #returns a tuple that shows the size of array/matrix\n",
    "print(a.dtype) #shows the ytpe of data\n",
    "print(a.ndim) #shows the dimension of array\n",
    "print(a.size) #shows total number of elements\n",
    "print(a.itemsize) #shows the size of item in bytes"
   ]
  },
  {
   "cell_type": "code",
   "execution_count": 4,
   "id": "6cd3a8cd-4bd3-4646-8978-7c397861a977",
   "metadata": {},
   "outputs": [
    {
     "data": {
      "text/plain": [
       "3"
      ]
     },
     "execution_count": 4,
     "metadata": {},
     "output_type": "execute_result"
    }
   ],
   "source": [
    "a[2]"
   ]
  },
  {
   "cell_type": "code",
   "execution_count": 5,
   "id": "0c869d17-35c1-4cd0-8a7b-179bb948043e",
   "metadata": {},
   "outputs": [
    {
     "name": "stdout",
     "output_type": "stream",
     "text": [
      "[ 1  2  3 10]\n"
     ]
    }
   ],
   "source": [
    "a[3]=10\n",
    "print(a)"
   ]
  },
  {
   "cell_type": "code",
   "execution_count": 6,
   "id": "705a5c29-d863-4dd7-841a-18308defd30c",
   "metadata": {},
   "outputs": [
    {
     "name": "stdout",
     "output_type": "stream",
     "text": [
      "[1 2 3 4]\n",
      "[5 6 7 8]\n"
     ]
    }
   ],
   "source": [
    "a[3] = 4\n",
    "b = np.array([5,6,7,8])\n",
    "print(a)\n",
    "print(b)"
   ]
  },
  {
   "cell_type": "code",
   "execution_count": 7,
   "id": "7dd77ffb-87f3-4997-a807-63df6e360de8",
   "metadata": {},
   "outputs": [
    {
     "data": {
      "text/plain": [
       "70"
      ]
     },
     "execution_count": 7,
     "metadata": {},
     "output_type": "execute_result"
    }
   ],
   "source": [
    "dot_product = np.dot(a,b)\n",
    "dot_product"
   ]
  },
  {
   "cell_type": "code",
   "execution_count": 8,
   "id": "a269e4c9-2249-4bcc-9263-923c4b0c8f6f",
   "metadata": {},
   "outputs": [
    {
     "name": "stdout",
     "output_type": "stream",
     "text": [
      "[[1 2]\n",
      " [3 4]\n",
      " [5 6]]\n"
     ]
    }
   ],
   "source": [
    "a = np.array([[1,2], [3,4], [5,6]])\n",
    "print(a)"
   ]
  },
  {
   "cell_type": "code",
   "execution_count": 9,
   "id": "f20542d6-84d6-4eac-9810-c0f5749c8026",
   "metadata": {},
   "outputs": [
    {
     "name": "stdout",
     "output_type": "stream",
     "text": [
      "[2]\n"
     ]
    }
   ],
   "source": [
    "b = a[0,1:3]\n",
    "print(b)"
   ]
  },
  {
   "cell_type": "code",
   "execution_count": 10,
   "id": "206f34ce-1b8c-4908-8143-2ca909fd70fa",
   "metadata": {},
   "outputs": [
    {
     "name": "stdout",
     "output_type": "stream",
     "text": [
      "[1]\n"
     ]
    }
   ],
   "source": [
    "b = a[:1,0]\n",
    "print(b)"
   ]
  },
  {
   "cell_type": "code",
   "execution_count": 11,
   "id": "dc785c6e-c99b-4a82-8e2c-af40f204abe1",
   "metadata": {},
   "outputs": [
    {
     "name": "stdout",
     "output_type": "stream",
     "text": [
      "5\n"
     ]
    }
   ],
   "source": [
    "b = a[-1,-2]\n",
    "print(b)"
   ]
  },
  {
   "cell_type": "code",
   "execution_count": 12,
   "id": "f4604856-681f-4abd-baf4-27b3096db63a",
   "metadata": {},
   "outputs": [
    {
     "name": "stdout",
     "output_type": "stream",
     "text": [
      "[[False False]\n",
      " [ True  True]\n",
      " [ True  True]]\n"
     ]
    }
   ],
   "source": [
    "bool_index = a>2\n",
    "print(bool_index)"
   ]
  },
  {
   "cell_type": "code",
   "execution_count": 13,
   "id": "66e82656-ef8e-46be-b1e4-6e242d2eff8f",
   "metadata": {},
   "outputs": [
    {
     "name": "stdout",
     "output_type": "stream",
     "text": [
      "[3 4 5 6]\n"
     ]
    }
   ],
   "source": [
    "print(a[bool_index])"
   ]
  },
  {
   "cell_type": "code",
   "execution_count": 14,
   "id": "d8f35b25-60a1-444d-bd46-345d25ba03ce",
   "metadata": {},
   "outputs": [
    {
     "name": "stdout",
     "output_type": "stream",
     "text": [
      "[3 4 5 6]\n"
     ]
    }
   ],
   "source": [
    "print(a[a>2])"
   ]
  },
  {
   "cell_type": "code",
   "execution_count": 15,
   "id": "0838663e-c746-484a-9c97-5c92863797d9",
   "metadata": {},
   "outputs": [
    {
     "name": "stdout",
     "output_type": "stream",
     "text": [
      "[[0 0]\n",
      " [3 4]\n",
      " [5 6]]\n"
     ]
    }
   ],
   "source": [
    "b = np.where(a>2, a, 0)\n",
    "print(b)"
   ]
  },
  {
   "cell_type": "code",
   "execution_count": 16,
   "id": "28e4e751-b28d-4aa1-ae28-08bf84c150b0",
   "metadata": {},
   "outputs": [
    {
     "name": "stdout",
     "output_type": "stream",
     "text": [
      "[25 90 78]\n"
     ]
    }
   ],
   "source": [
    "a = np.array([10, 25, 89, 90, 46, 78, 94, 103])\n",
    "b = [1, 3, 5]\n",
    "print(a[b])"
   ]
  },
  {
   "cell_type": "code",
   "execution_count": 17,
   "id": "dd9e3a45-89c9-44e4-bac2-99a0faa82742",
   "metadata": {},
   "outputs": [
    {
     "name": "stdout",
     "output_type": "stream",
     "text": [
      "[0 3 4 5 6]\n",
      "[10 90 46 78 94]\n"
     ]
    }
   ],
   "source": [
    "even = np.argwhere(a%2==0).flatten()\n",
    "print(even)\n",
    "print(a[even])"
   ]
  },
  {
   "cell_type": "code",
   "execution_count": 18,
   "id": "15679040-9bb5-417d-9146-743482147274",
   "metadata": {},
   "outputs": [
    {
     "name": "stdout",
     "output_type": "stream",
     "text": [
      "[1 2 3 4 5 6]\n"
     ]
    }
   ],
   "source": [
    "a = np.arange(1,7)\n",
    "print(a)"
   ]
  },
  {
   "cell_type": "code",
   "execution_count": 19,
   "id": "775a4bf9-8470-43bc-aa78-40b0c6ac834d",
   "metadata": {},
   "outputs": [
    {
     "name": "stdout",
     "output_type": "stream",
     "text": [
      "[[1 2 3]\n",
      " [4 5 6]]\n"
     ]
    }
   ],
   "source": [
    "b = a.reshape((2,3))\n",
    "print(b)"
   ]
  },
  {
   "cell_type": "code",
   "execution_count": 20,
   "id": "70411757-1580-4e3f-aea5-dd82e751323a",
   "metadata": {},
   "outputs": [
    {
     "name": "stdout",
     "output_type": "stream",
     "text": [
      "[[1 2 3 4 5 6]]\n"
     ]
    }
   ],
   "source": [
    "b = a[np.newaxis,:]\n",
    "print(b)"
   ]
  },
  {
   "cell_type": "code",
   "execution_count": 21,
   "id": "24bac805-d851-4a32-9927-f34759a94016",
   "metadata": {},
   "outputs": [
    {
     "name": "stdout",
     "output_type": "stream",
     "text": [
      "(1, 6)\n"
     ]
    }
   ],
   "source": [
    "print(b.shape)"
   ]
  },
  {
   "cell_type": "code",
   "execution_count": 22,
   "id": "8153ec83-59ff-4c5d-87a5-e5925de9ed92",
   "metadata": {},
   "outputs": [
    {
     "name": "stdout",
     "output_type": "stream",
     "text": [
      "[[1]\n",
      " [2]\n",
      " [3]\n",
      " [4]\n",
      " [5]\n",
      " [6]]\n",
      "(6, 1)\n"
     ]
    }
   ],
   "source": [
    "b = a[:, np.newaxis]\n",
    "print(b)\n",
    "print(b.shape)"
   ]
  },
  {
   "cell_type": "code",
   "execution_count": 33,
   "id": "53bd7810-674b-4399-aecb-675ff0cf4e7d",
   "metadata": {},
   "outputs": [
    {
     "name": "stdout",
     "output_type": "stream",
     "text": [
      "[[1 2]\n",
      " [3 4]]\n",
      "[[5 6]]\n",
      "[[1 2 5]\n",
      " [3 4 6]]\n"
     ]
    }
   ],
   "source": [
    "a = np.array([[1,2], [3,4]])\n",
    "print(a)\n",
    "b = np.array([[5,6]])\n",
    "print(b)\n",
    "c = np.concatenate((a,b.T), axis = 1) #Axis is 0 by default\n",
    "print(c)"
   ]
  },
  {
   "cell_type": "code",
   "execution_count": 37,
   "id": "6898a725-ec64-43ad-81a6-83da469b7541",
   "metadata": {},
   "outputs": [
    {
     "name": "stdout",
     "output_type": "stream",
     "text": [
      "[1 2 3 4 5 6 7 8]\n",
      "[[1 2 3 4]\n",
      " [5 6 7 8]]\n"
     ]
    }
   ],
   "source": [
    "a = np.array([1,2,3,4])\n",
    "b = np.array([5,6,7,8])\n",
    "c1 = np.hstack((a,b))\n",
    "print(c1)\n",
    "c2 = np.vstack((a,b))\n",
    "print(c2)"
   ]
  },
  {
   "cell_type": "code",
   "execution_count": 38,
   "id": "ee46b8ca-2d17-4ebe-a9a5-7dcfebade601",
   "metadata": {},
   "outputs": [
    {
     "name": "stdout",
     "output_type": "stream",
     "text": [
      "[[ 2  2  4]\n",
      " [ 5  5  7]\n",
      " [ 8  8 10]]\n"
     ]
    }
   ],
   "source": [
    "x = np.array([[1,2,3], [4,5,6], [7,8,9]])\n",
    "y = np.array([1,0,1])\n",
    "print(x+y)"
   ]
  },
  {
   "cell_type": "code",
   "execution_count": 41,
   "id": "1ebf0c28-1dc5-47e1-bde0-7e095ed32930",
   "metadata": {},
   "outputs": [
    {
     "name": "stdout",
     "output_type": "stream",
     "text": [
      "[ 70 119]\n"
     ]
    }
   ],
   "source": [
    "a = np.array([[7,8,9,10,11,12,13], [14,15,16,17,18,19,20]])\n",
    "print(a.sum(axis=1)) #axis is none as default"
   ]
  },
  {
   "cell_type": "code",
   "execution_count": 47,
   "id": "c1e12743-6ff0-47c8-9607-535cfb55db9f",
   "metadata": {},
   "outputs": [
    {
     "name": "stdout",
     "output_type": "stream",
     "text": [
      "4.031128874149275\n",
      "16.25\n",
      "13.5\n",
      "20\n",
      "7\n"
     ]
    }
   ],
   "source": [
    "print(a.std(axis=None))\n",
    "print(a.var(axis=None))\n",
    "print(a.mean(axis=None))\n",
    "print(a.max(axis=None))\n",
    "print(a.min(axis=None))"
   ]
  },
  {
   "cell_type": "code",
   "execution_count": 50,
   "id": "b2abc4f1-283a-4a80-b385-270660401e3e",
   "metadata": {},
   "outputs": [
    {
     "name": "stdout",
     "output_type": "stream",
     "text": [
      "[64  2  3]\n",
      "[64  2  3]\n"
     ]
    }
   ],
   "source": [
    "a = np.array([1,2,3])\n",
    "b = a\n",
    "b[0] = 64\n",
    "print(b)\n",
    "print(a)"
   ]
  },
  {
   "cell_type": "code",
   "execution_count": 51,
   "id": "126dcdcc-2c97-4ac2-824c-3cc6c73ebab4",
   "metadata": {},
   "outputs": [
    {
     "name": "stdout",
     "output_type": "stream",
     "text": [
      "[75  2  3]\n",
      "[64  2  3]\n"
     ]
    }
   ],
   "source": [
    "b = a.copy()\n",
    "b[0] = 75\n",
    "print(b)\n",
    "print(a)"
   ]
  },
  {
   "cell_type": "code",
   "execution_count": 53,
   "id": "1f2391a6-e66e-4580-831e-d58fa5f2a0ab",
   "metadata": {},
   "outputs": [
    {
     "name": "stdout",
     "output_type": "stream",
     "text": [
      "[[1. 1. 1.]\n",
      " [1. 1. 1.]]\n"
     ]
    }
   ],
   "source": [
    "a = np.ones((2,3))\n",
    "print(a)"
   ]
  },
  {
   "cell_type": "code",
   "execution_count": 55,
   "id": "f4f96be6-d5ee-49e7-a275-6fdf7cae8dfe",
   "metadata": {},
   "outputs": [
    {
     "name": "stdout",
     "output_type": "stream",
     "text": [
      "[[0. 0. 0.]\n",
      " [0. 0. 0.]]\n"
     ]
    }
   ],
   "source": [
    "a = np.zeros((2,3))\n",
    "print(a)"
   ]
  },
  {
   "cell_type": "code",
   "execution_count": 57,
   "id": "962e9c4c-341c-47ed-82ca-209c5f7d012c",
   "metadata": {},
   "outputs": [
    {
     "name": "stdout",
     "output_type": "stream",
     "text": [
      "[[1. 0. 0.]\n",
      " [0. 1. 0.]\n",
      " [0. 0. 1.]]\n"
     ]
    }
   ],
   "source": [
    "a = np.eye(3)\n",
    "print(a)"
   ]
  },
  {
   "cell_type": "code",
   "execution_count": 59,
   "id": "ce393682-54f8-48cd-a2b5-c1e847e1339b",
   "metadata": {},
   "outputs": [
    {
     "name": "stdout",
     "output_type": "stream",
     "text": [
      "[[5 5 5]\n",
      " [5 5 5]]\n"
     ]
    }
   ],
   "source": [
    "a = np.full((2,3), 5)\n",
    "print(a)"
   ]
  },
  {
   "cell_type": "code",
   "execution_count": 60,
   "id": "657208b5-687a-45bb-af32-210e8e143f22",
   "metadata": {},
   "outputs": [
    {
     "name": "stdout",
     "output_type": "stream",
     "text": [
      "[ 0.   2.5  5.   7.5 10. ]\n"
     ]
    }
   ],
   "source": [
    "a = np.linspace(0,10,5) #start vayle, stop value, no. of elements. The elements are equally spaced\n",
    "print(a)"
   ]
  },
  {
   "cell_type": "code",
   "execution_count": 62,
   "id": "4a4ce42a-9ed7-4d89-aeb4-28dbe64098f6",
   "metadata": {},
   "outputs": [
    {
     "name": "stdout",
     "output_type": "stream",
     "text": [
      "[[0.71191744 0.09647747 0.91538725]\n",
      " [0.8951604  0.25699751 0.87543986]\n",
      " [0.33278591 0.2183138  0.94053253]]\n"
     ]
    }
   ],
   "source": [
    "a = np.random.random((3,3)) #betweee 0&1\n",
    "print(a)"
   ]
  },
  {
   "cell_type": "code",
   "execution_count": 66,
   "id": "9a32487d-5e9d-4462-abd3-38f99a1632e2",
   "metadata": {},
   "outputs": [
    {
     "name": "stdout",
     "output_type": "stream",
     "text": [
      "[[0.51805135 0.61122594 0.56296388]\n",
      " [0.6854083  0.46806095 0.01853101]\n",
      " [0.62826966 0.22936776 0.00962624]]\n"
     ]
    }
   ],
   "source": [
    "a = np.random.rand(3,3)\n",
    "print(a)"
   ]
  },
  {
   "cell_type": "code",
   "execution_count": 70,
   "id": "2219752e-56b1-48c4-b791-8ea6c90a3a6e",
   "metadata": {},
   "outputs": [
    {
     "name": "stdout",
     "output_type": "stream",
     "text": [
      "[[8 5 9]\n",
      " [8 5 5]\n",
      " [5 8 9]]\n"
     ]
    }
   ],
   "source": [
    "a = np.random.randint(3,10,size=(3,3)) #between 3&10. If only one number given then starts from 0\n",
    "print(a)"
   ]
  },
  {
   "cell_type": "code",
   "execution_count": null,
   "id": "5997753c-24af-418b-9859-823c222185bc",
   "metadata": {},
   "outputs": [],
   "source": []
  }
 ],
 "metadata": {
  "kernelspec": {
   "display_name": "Python 3 (ipykernel)",
   "language": "python",
   "name": "python3"
  },
  "language_info": {
   "codemirror_mode": {
    "name": "ipython",
    "version": 3
   },
   "file_extension": ".py",
   "mimetype": "text/x-python",
   "name": "python",
   "nbconvert_exporter": "python",
   "pygments_lexer": "ipython3",
   "version": "3.11.4"
  }
 },
 "nbformat": 4,
 "nbformat_minor": 5
}
